{
 "cells": [
  {
   "cell_type": "markdown",
   "id": "9de7f303",
   "metadata": {},
   "source": [
    " "
   ]
  },
  {
   "cell_type": "markdown",
   "id": "26197bc6",
   "metadata": {},
   "source": [
    "# Data Ingestion for Reporting Optimization\n",
    "\n",
    "...or how to convert files into tables of a database in just __5 steps!!!__\n",
    "\n",
    "![Image](./images/data_ingestion_banner.jpg)"
   ]
  },
  {
   "cell_type": "markdown",
   "id": "a28621ce",
   "metadata": {},
   "source": [
    "---\n",
    "\n",
    "## Step 1: Import the libraries (only 3 libraries!!!)\n",
    "\n",
    "__[DuckDB](https://duckdb.org/)__ is a fast in-process analytical database. DuckDB supports a feature-rich SQL dialect complemented with deep integrations into client APIs. It provides a full-featured SQL engine designed for analytics and __OLAP (Online Analytical Processing)__ tasks. It can run SQL queries on large datasets efficiently.\n",
    "\n",
    "__Tip:__ _Don't forget to install DuckDB._"
   ]
  },
  {
   "cell_type": "code",
   "execution_count": 18,
   "id": "fc12acf9",
   "metadata": {},
   "outputs": [],
   "source": [
    "# import libraries\n",
    "#%pip install duckdb\n",
    "\n",
    "import duckdb    \n",
    "\n",
    "import pandas as pd\n",
    "import os\n",
    "\n",
    "import sqlite3"
   ]
  },
  {
   "cell_type": "markdown",
   "id": "ba4d938d",
   "metadata": {},
   "source": [
    "---\n",
    "\n",
    "## Step 2: List your `.csv` data files and create the relative paths list\n",
    "\n",
    "Using the `os` library we can list the filenames we want load as tables into our database. \n",
    "\n",
    "__Tip:__ _Remember to be clean and neat when naming the `.csv` files._"
   ]
  },
  {
   "cell_type": "code",
   "execution_count": 19,
   "id": "bc3d8d32",
   "metadata": {},
   "outputs": [
    {
     "data": {
      "text/plain": [
       "['agents.csv',\n",
       " 'bookings.csv',\n",
       " 'customers.csv',\n",
       " 'destinations.csv',\n",
       " 'flights.csv',\n",
       " 'hotels.csv',\n",
       " 'Locations.csv',\n",
       " 'payments.csv',\n",
       " 'promotions.csv',\n",
       " 'reviews.csv',\n",
       " 'tickets.csv']"
      ]
     },
     "execution_count": 19,
     "metadata": {},
     "output_type": "execute_result"
    }
   ],
   "source": [
    "# List .csv filenames\n",
    "\n",
    "dir_list = os.listdir('veronica/data/')\n",
    "dir_list"
   ]
  },
  {
   "cell_type": "code",
   "execution_count": 20,
   "id": "0274fa8d",
   "metadata": {},
   "outputs": [
    {
     "data": {
      "text/plain": [
       "['./veronica/data/agents.csv',\n",
       " './veronica/data/bookings.csv',\n",
       " './veronica/data/customers.csv',\n",
       " './veronica/data/destinations.csv',\n",
       " './veronica/data/flights.csv',\n",
       " './veronica/data/hotels.csv',\n",
       " './veronica/data/Locations.csv',\n",
       " './veronica/data/payments.csv',\n",
       " './veronica/data/promotions.csv',\n",
       " './veronica/data/reviews.csv',\n",
       " './veronica/data/tickets.csv']"
      ]
     },
     "execution_count": 20,
     "metadata": {},
     "output_type": "execute_result"
    }
   ],
   "source": [
    "# Create relative paths list (i.e.: tables)\n",
    "\n",
    "tables = [f'./veronica/data/{file}' for file in dir_list]\n",
    "tables"
   ]
  },
  {
   "cell_type": "markdown",
   "id": "8b218290",
   "metadata": {},
   "source": [
    "---\n",
    "\n",
    "## Step 3: Create the DDL queries\n",
    "\n",
    "In SQL we have __Data Definition Language__ to define, alter, or manage the structure of database objects like tables, indexes, views, and schemas.\n",
    "\n",
    "__Tip:__ _The code is set to work with an specific path length (i.e.: `table[20:-4]`). Bear in mind that you might need to set it for your use case._"
   ]
  },
  {
   "cell_type": "code",
   "execution_count": 21,
   "id": "27903e8f",
   "metadata": {
    "scrolled": true
   },
   "outputs": [
    {
     "data": {
      "text/plain": [
       "[\"CREATE OR REPLACE TABLE agents AS SELECT * FROM './veronica/data/agents.csv';\",\n",
       " \"CREATE OR REPLACE TABLE bookings AS SELECT * FROM './veronica/data/bookings.csv';\",\n",
       " \"CREATE OR REPLACE TABLE customers AS SELECT * FROM './veronica/data/customers.csv';\",\n",
       " \"CREATE OR REPLACE TABLE destinations AS SELECT * FROM './veronica/data/destinations.csv';\",\n",
       " \"CREATE OR REPLACE TABLE flights AS SELECT * FROM './veronica/data/flights.csv';\",\n",
       " \"CREATE OR REPLACE TABLE hotels AS SELECT * FROM './veronica/data/hotels.csv';\",\n",
       " \"CREATE OR REPLACE TABLE Locations AS SELECT * FROM './veronica/data/Locations.csv';\",\n",
       " \"CREATE OR REPLACE TABLE payments AS SELECT * FROM './veronica/data/payments.csv';\",\n",
       " \"CREATE OR REPLACE TABLE promotions AS SELECT * FROM './veronica/data/promotions.csv';\",\n",
       " \"CREATE OR REPLACE TABLE reviews AS SELECT * FROM './veronica/data/reviews.csv';\",\n",
       " \"CREATE OR REPLACE TABLE tickets AS SELECT * FROM './veronica/data/tickets.csv';\"]"
      ]
     },
     "execution_count": 21,
     "metadata": {},
     "output_type": "execute_result"
    }
   ],
   "source": [
    "# Create queries\n",
    "\n",
    "queries = [f\"CREATE OR REPLACE TABLE {table[16:-4]} AS SELECT * FROM '{table}';\" for table in tables]\n",
    "queries"
   ]
  },
  {
   "cell_type": "markdown",
   "id": "545be6c2",
   "metadata": {},
   "source": [
    "---\n",
    "\n",
    "## Step 4: Load your tables into your Database\n",
    "\n",
    "__DuckDB__ is embedded into applications, meaning it doesn't require a separate server to run. It operates within the same process as the application using it. It can work with in-memory data for fast processing, but it also supports persistent storage for saving data to disk. In our case we're going to use the option of persisting the data in `.db` files.\n",
    "\n",
    "__Tip:__ _Be careful where you store your `.db` files; don't lose them._\n"
   ]
  },
  {
   "cell_type": "code",
   "execution_count": 22,
   "id": "65572628",
   "metadata": {},
   "outputs": [],
   "source": [
    "# Create database connection and .db file\n",
    "\n",
    "con = duckdb.connect('dataset/prueba.db')"
   ]
  },
  {
   "cell_type": "code",
   "execution_count": 23,
   "id": "04f08df2",
   "metadata": {},
   "outputs": [],
   "source": [
    "# Create tables in database and load data from .csv files\n",
    "\n",
    "for query in range(len(queries)):\n",
    "    #print(queries[query])\n",
    "    con.sql(queries[query])"
   ]
  },
  {
   "cell_type": "code",
   "execution_count": 24,
   "id": "a4cdf7a6",
   "metadata": {},
   "outputs": [
    {
     "data": {
      "text/plain": [
       "<duckdb.duckdb.DuckDBPyConnection at 0x14c1a04cef0>"
      ]
     },
     "execution_count": 24,
     "metadata": {},
     "output_type": "execute_result"
    }
   ],
   "source": [
    "combined_query = '''\n",
    "CREATE OR REPLACE TABLE customers AS\n",
    "SELECT DISTINCT\n",
    "    c.CustomerID,\n",
    "    c.CustomerName,\n",
    "    c.Gender,\n",
    "   c.CustumerCountry,\n",
    "    l.region AS customer_region,\n",
    "    l.\"sub-region\" AS customer_sub_region\n",
    "FROM \n",
    "    (\n",
    "        SELECT \n",
    "            CustomerID,\n",
    "            Name AS CustomerName,\n",
    "            Email,\n",
    "            Phone,\n",
    "            Gender,\n",
    "            CustumerCountry\n",
    "        FROM \n",
    "            customers\n",
    "    ) c\n",
    "INNER JOIN \n",
    "    Locations l ON c.CustumerCountry = l.Country;\n",
    "'''\n",
    "\n",
    "# Ejecutar la consulta\n",
    "con.execute(combined_query)"
   ]
  },
  {
   "cell_type": "code",
   "execution_count": 25,
   "id": "9fd42e5b",
   "metadata": {},
   "outputs": [
    {
     "data": {
      "text/plain": [
       "<duckdb.duckdb.DuckDBPyConnection at 0x14c1a04cef0>"
      ]
     },
     "execution_count": 25,
     "metadata": {},
     "output_type": "execute_result"
    }
   ],
   "source": [
    "combined_query = '''\n",
    "CREATE OR REPLACE TABLE destinations AS\n",
    "SELECT \n",
    "    d.DestinationID,\n",
    "    MAX(d.DestinationName) AS DestinationName,\n",
    "    MAX(d.DestinationCountry) AS DestinationCountry,\n",
    "    MAX(d.PopularAttractionType) AS PopularAttractionType,\n",
    "    MAX(l.region) AS destination_region,\n",
    "    MAX(l.\"sub-region\") AS destination_sub_region\n",
    "FROM (\n",
    "    SELECT \n",
    "        DestinationID,\n",
    "        Name AS DestinationName,\n",
    "        Country AS DestinationCountry,\n",
    "        PopularAttractionType\n",
    "    FROM \n",
    "        destinations\n",
    ") d\n",
    "INNER JOIN \n",
    "    Locations l ON d.DestinationCountry = l.Country\n",
    "GROUP BY\n",
    "    d.DestinationID, d.DestinationName;\n",
    "'''\n",
    "\n",
    "# Ejecutar la consulta\n",
    "con.execute(combined_query)\n",
    "\n"
   ]
  },
  {
   "cell_type": "code",
   "execution_count": 26,
   "id": "e11dd99e",
   "metadata": {},
   "outputs": [],
   "source": [
    "query = '''\n",
    "ALTER TABLE flights\n",
    "RENAME COLUMN Price TO FlightPrice;\n",
    "'''\n",
    "\n",
    "# Ejecutar la consulta\n",
    "con.sql(query)"
   ]
  },
  {
   "cell_type": "code",
   "execution_count": 27,
   "id": "ce60f6f5",
   "metadata": {},
   "outputs": [],
   "source": [
    "query = '''\n",
    "ALTER TABLE hotels\n",
    "RENAME COLUMN Name TO HotelName;\n",
    "'''\n",
    "\n",
    "# Ejecutar la consulta\n",
    "con.sql(query)\n"
   ]
  },
  {
   "cell_type": "code",
   "execution_count": 28,
   "id": "4b9bb161",
   "metadata": {},
   "outputs": [],
   "source": [
    "query = '''\n",
    "ALTER TABLE reviews\n",
    "RENAME COLUMN Rating TO ReviewRating;\n",
    "'''\n",
    "\n",
    "# Ejecutar la consulta\n",
    "con.sql(query)\n"
   ]
  },
  {
   "cell_type": "code",
   "execution_count": 29,
   "id": "2ee1d407",
   "metadata": {
    "scrolled": true
   },
   "outputs": [
    {
     "data": {
      "text/plain": [
       "┌───────────────┬──────────────────────┬──────────────────────┬───┬────────────────────┬──────────────────────┐\n",
       "│ DestinationID │   DestinationName    │  DestinationCountry  │ … │ destination_region │ destination_sub_re…  │\n",
       "│     int64     │       varchar        │       varchar        │   │      varchar       │       varchar        │\n",
       "├───────────────┼──────────────────────┼──────────────────────┼───┼────────────────────┼──────────────────────┤\n",
       "│             3 │ West Charles         │ Falkland Islands (…  │ … │ Americas           │ South America and …  │\n",
       "│             7 │ North Tiffanyborough │ Ghana                │ … │ Africa             │ Sub-Saharan Africa   │\n",
       "│            12 │ Laneview             │ Malawi               │ … │ Africa             │ Sub-Saharan Africa   │\n",
       "│            14 │ Jenkinsfurt          │ Cameroon             │ … │ Africa             │ Sub-Saharan Africa   │\n",
       "│            30 │ Mullinsburgh         │ Saint Pierre and M…  │ … │ Americas           │ South America and …  │\n",
       "│            38 │ Lake Ryanside        │ Iraq                 │ … │ Asia               │ Western Asia         │\n",
       "│            88 │ Colefort             │ Uzbekistan           │ … │ Asia               │ Central Asia         │\n",
       "│           101 │ Mariemouth           │ Western Sahara       │ … │ Africa             │ Northern Africa      │\n",
       "│           112 │ Pittsport            │ Singapore            │ … │ Asia               │ South-eastern Asia   │\n",
       "│           113 │ West David           │ Solomon Islands      │ … │ Oceania            │ Micronesia           │\n",
       "│            ·  │     ·                │     ·                │ · │    ·               │     ·                │\n",
       "│            ·  │     ·                │     ·                │ · │    ·               │     ·                │\n",
       "│            ·  │     ·                │     ·                │ · │    ·               │     ·                │\n",
       "│           461 │ New Brianbury        │ Nicaragua            │ … │ Americas           │ South America and …  │\n",
       "│           470 │ East Dana            │ Liberia              │ … │ Africa             │ Sub-Saharan Africa   │\n",
       "│           473 │ Juliaside            │ Madagascar           │ … │ Africa             │ Sub-Saharan Africa   │\n",
       "│           477 │ Christopherchester   │ Fiji                 │ … │ Oceania            │ Micronesia           │\n",
       "│           481 │ West Theresaton      │ Togo                 │ … │ Africa             │ Sub-Saharan Africa   │\n",
       "│           484 │ Lake Kelsey          │ Tonga                │ … │ Oceania            │ Polynesia            │\n",
       "│           496 │ Kaylatown            │ Dominica             │ … │ Americas           │ South America and …  │\n",
       "│           362 │ Andrewchester        │ Equatorial Guinea    │ … │ Africa             │ Sub-Saharan Africa   │\n",
       "│           417 │ East Wendy           │ Romania              │ … │ Europe             │ Eastern Europe       │\n",
       "│           106 │ Fuentesstad          │ Thailand             │ … │ Asia               │ South-eastern Asia   │\n",
       "├───────────────┴──────────────────────┴──────────────────────┴───┴────────────────────┴──────────────────────┤\n",
       "│ 500 rows (20 shown)                                                                     6 columns (5 shown) │\n",
       "└─────────────────────────────────────────────────────────────────────────────────────────────────────────────┘"
      ]
     },
     "execution_count": 29,
     "metadata": {},
     "output_type": "execute_result"
    }
   ],
   "source": [
    "con.sql('select * from destinationS')"
   ]
  },
  {
   "cell_type": "code",
   "execution_count": 30,
   "id": "e7399596",
   "metadata": {
    "scrolled": true
   },
   "outputs": [
    {
     "data": {
      "text/plain": [
       "┌─────────────────────┬─────────────┬─────────┬─────────┬─────────┬─────────┐\n",
       "│     column_name     │ column_type │  null   │   key   │ default │  extra  │\n",
       "│       varchar       │   varchar   │ varchar │ varchar │ varchar │ varchar │\n",
       "├─────────────────────┼─────────────┼─────────┼─────────┼─────────┼─────────┤\n",
       "│ CustomerID          │ BIGINT      │ YES     │ NULL    │ NULL    │ NULL    │\n",
       "│ CustomerName        │ VARCHAR     │ YES     │ NULL    │ NULL    │ NULL    │\n",
       "│ Gender              │ VARCHAR     │ YES     │ NULL    │ NULL    │ NULL    │\n",
       "│ CustumerCountry     │ VARCHAR     │ YES     │ NULL    │ NULL    │ NULL    │\n",
       "│ customer_region     │ VARCHAR     │ YES     │ NULL    │ NULL    │ NULL    │\n",
       "│ customer_sub_region │ VARCHAR     │ YES     │ NULL    │ NULL    │ NULL    │\n",
       "└─────────────────────┴─────────────┴─────────┴─────────┴─────────┴─────────┘"
      ]
     },
     "execution_count": 30,
     "metadata": {},
     "output_type": "execute_result"
    }
   ],
   "source": [
    "con.sql('DESCRIBE customers')\n"
   ]
  },
  {
   "cell_type": "code",
   "execution_count": 31,
   "id": "3c8a56d1",
   "metadata": {
    "scrolled": true
   },
   "outputs": [
    {
     "data": {
      "text/plain": [
       "<duckdb.duckdb.DuckDBPyConnection at 0x14c1a04cef0>"
      ]
     },
     "execution_count": 31,
     "metadata": {},
     "output_type": "execute_result"
    }
   ],
   "source": [
    "consulta_sql = '''CREATE OR REPLACE TABLE TOTAL AS\n",
    "SELECT \n",
    "    b.BookingID,\n",
    "    b.CustomerID,\n",
    "    b.AgentID,\n",
    "    b.DestinationID,\n",
    "    b.HotelID,\n",
    "    b.FlightID,\n",
    "    b.BookingDate,\n",
    "    p.PaymentID,\n",
    "    p.Amount,\n",
    "    p.PaymentDate,\n",
    "    p.PaymentMethod,\n",
    "    f.Airline,\n",
    "    f.Origin,\n",
    "    f.Destination,\n",
    "    f.DepartureTime,\n",
    "    f.ArrivalTime,\n",
    "    f.FlightPrice,\n",
    "    d.DestinationName,\n",
    "    d.DestinationCountry,\n",
    "    d.PopularAttractionType,\n",
    "    d.Destination_region,\n",
    "    d.Destination_sub_region,\n",
    "    c.CustomerName,\n",
    "    c.Gender,\n",
    "    c.CustumerCountry,\n",
    "    c.Customer_region,\n",
    "    c.Customer_sub_region,\n",
    "    h.HotelName,\n",
    "    h.Rating,\n",
    "    h.PricePerNight,\n",
    "    h.HotelCountry,\n",
    "    EXTRACT(MONTH FROM f.DepartureTime) AS Months,\n",
    "    (p.Amount + f.FlightPrice) AS total_cost,\n",
    "    EXTRACT(DAY FROM (f.DepartureTime - b.BookingDate)) AS Subtraction,\n",
    "    r.ReviewRating\n",
    "FROM \n",
    "    bookings b\n",
    "INNER JOIN \n",
    "    payments p ON b.BookingID = p.BookingID\n",
    "INNER JOIN \n",
    "    flights f ON b.FlightID = f.FlightID\n",
    "INNER JOIN \n",
    "    destinations d ON b.DestinationID = d.DestinationID\n",
    "INNER JOIN \n",
    "    customers c ON b.CustomerID = c.CustomerID\n",
    "INNER JOIN \n",
    "    hotels h ON b.HotelID = h.HotelID\n",
    "LEFT JOIN \n",
    "    reviews r ON b.BookingID = r.BookingID;\n",
    "    '''\n",
    "\n",
    "# Ejecutar la consulta final\n",
    "con.execute(consulta_sql)\n"
   ]
  },
  {
   "cell_type": "code",
   "execution_count": 32,
   "id": "aff3e8b8",
   "metadata": {},
   "outputs": [
    {
     "data": {
      "text/plain": [
       "┌───────────┬────────────┬─────────┬───────────────┬───┬────────┬────────────────────┬─────────────┬──────────────┐\n",
       "│ BookingID │ CustomerID │ AgentID │ DestinationID │ … │ Months │     total_cost     │ Subtraction │ ReviewRating │\n",
       "│   int64   │   int64    │  int64  │     int64     │   │ int64  │       double       │    int64    │    int64     │\n",
       "├───────────┼────────────┼─────────┼───────────────┼───┼────────┼────────────────────┼─────────────┼──────────────┤\n",
       "│      3483 │       1671 │      61 │           117 │ … │      2 │ 1519.4102675341314 │         131 │            3 │\n",
       "│     29742 │       5956 │      71 │           385 │ … │      2 │  803.6855209147667 │         -73 │            1 │\n",
       "│     29006 │       4357 │      51 │           236 │ … │      4 │ 1179.9278205160465 │         275 │            4 │\n",
       "│     17357 │       5402 │      47 │           290 │ … │      3 │ 1741.6942954983103 │         660 │            4 │\n",
       "│      7739 │       5912 │      43 │           160 │ … │      5 │ 1510.5077508619956 │         723 │            2 │\n",
       "│      7876 │       4134 │      15 │           326 │ … │      3 │ 2039.7387447485758 │         270 │            2 │\n",
       "│      4950 │       4376 │      86 │           319 │ … │      1 │ 1518.3674489026469 │         164 │            4 │\n",
       "│      6829 │       9678 │      83 │           376 │ … │      2 │ 1144.1128005155842 │         564 │            2 │\n",
       "│     16484 │       9642 │      76 │           252 │ … │      3 │  706.8714997060584 │         648 │            3 │\n",
       "│     18900 │       6850 │      37 │           434 │ … │      4 │ 1599.6224806979974 │         506 │            4 │\n",
       "│       ·   │         ·  │       · │             · │ · │      · │          ·         │           · │            · │\n",
       "│       ·   │         ·  │       · │             · │ · │      · │          ·         │           · │            · │\n",
       "│       ·   │         ·  │       · │             · │ · │      · │          ·         │           · │            · │\n",
       "│     21857 │        945 │      95 │            86 │ … │      4 │  884.3088577964411 │          22 │            3 │\n",
       "│     24650 │       4749 │      61 │           235 │ … │      3 │ 1341.1608169900333 │         194 │            3 │\n",
       "│     21312 │       2680 │      30 │           138 │ … │      2 │  2082.961169196275 │         587 │            1 │\n",
       "│      3248 │       7870 │      33 │           388 │ … │      1 │   838.496739190941 │         624 │            2 │\n",
       "│      9108 │       9292 │      15 │            92 │ … │      3 │  1670.235578213448 │         679 │            3 │\n",
       "│     16450 │       5492 │      45 │             8 │ … │      1 │  938.1354046715494 │         431 │            3 │\n",
       "│      2029 │       5232 │      98 │           243 │ … │      3 │  886.2956451776613 │         283 │            4 │\n",
       "│     25313 │       6566 │       8 │           389 │ … │      4 │  852.1999667502043 │         359 │            3 │\n",
       "│     24595 │       6997 │      88 │            50 │ … │      2 │ 1130.9586010725607 │         310 │            1 │\n",
       "│     12922 │       5666 │      69 │           417 │ … │      4 │ 1270.8144591523355 │         330 │            2 │\n",
       "├───────────┴────────────┴─────────┴───────────────┴───┴────────┴────────────────────┴─────────────┴──────────────┤\n",
       "│ ? rows (>9999 rows, 20 shown)                                                              35 columns (8 shown) │\n",
       "└─────────────────────────────────────────────────────────────────────────────────────────────────────────────────┘"
      ]
     },
     "execution_count": 32,
     "metadata": {},
     "output_type": "execute_result"
    }
   ],
   "source": [
    "con.sql('select * from TOTAL')"
   ]
  },
  {
   "cell_type": "code",
   "execution_count": null,
   "id": "52366e0a",
   "metadata": {},
   "outputs": [],
   "source": []
  },
  {
   "cell_type": "code",
   "execution_count": 33,
   "id": "e46f9b08",
   "metadata": {},
   "outputs": [],
   "source": [
    "# Close the connection explicitly\n",
    "\n",
    "con.close()"
   ]
  },
  {
   "cell_type": "code",
   "execution_count": null,
   "id": "b14ed9f8",
   "metadata": {},
   "outputs": [],
   "source": []
  }
 ],
 "metadata": {
  "kernelspec": {
   "display_name": "Python 3 (ipykernel)",
   "language": "python",
   "name": "python3"
  },
  "language_info": {
   "codemirror_mode": {
    "name": "ipython",
    "version": 3
   },
   "file_extension": ".py",
   "mimetype": "text/x-python",
   "name": "python",
   "nbconvert_exporter": "python",
   "pygments_lexer": "ipython3",
   "version": "3.11.5"
  }
 },
 "nbformat": 4,
 "nbformat_minor": 5
}
